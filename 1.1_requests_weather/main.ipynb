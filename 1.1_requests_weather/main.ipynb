{
 "cells": [
  {
   "cell_type": "code",
   "execution_count": 86,
   "metadata": {},
   "outputs": [
    {
     "data": {
      "text/html": [
       "<div>\n",
       "<style scoped>\n",
       "    .dataframe tbody tr th:only-of-type {\n",
       "        vertical-align: middle;\n",
       "    }\n",
       "\n",
       "    .dataframe tbody tr th {\n",
       "        vertical-align: top;\n",
       "    }\n",
       "\n",
       "    .dataframe thead th {\n",
       "        text-align: right;\n",
       "    }\n",
       "</style>\n",
       "<table border=\"1\" class=\"dataframe\">\n",
       "  <thead>\n",
       "    <tr style=\"text-align: right;\">\n",
       "      <th></th>\n",
       "      <th>Unnamed: 0</th>\n",
       "      <th>province_name</th>\n",
       "      <th>temp</th>\n",
       "      <th>link</th>\n",
       "    </tr>\n",
       "  </thead>\n",
       "  <tbody>\n",
       "    <tr>\n",
       "      <th>0</th>\n",
       "      <td>0</td>\n",
       "      <td>Lai Châu</td>\n",
       "      <td>18°C</td>\n",
       "      <td>https://nchmf.gov.vn/Kttv/vi-VN/1/lai-chau-w64...</td>\n",
       "    </tr>\n",
       "    <tr>\n",
       "      <th>1</th>\n",
       "      <td>1</td>\n",
       "      <td>Điện Biên</td>\n",
       "      <td>24°C</td>\n",
       "      <td>https://nchmf.gov.vn/Kttv/vi-VN/1/dien-bien-w3...</td>\n",
       "    </tr>\n",
       "    <tr>\n",
       "      <th>2</th>\n",
       "      <td>2</td>\n",
       "      <td>Sơn La</td>\n",
       "      <td>18°C</td>\n",
       "      <td>https://nchmf.gov.vn/Kttv/vi-VN/1/son-la-w45.html</td>\n",
       "    </tr>\n",
       "    <tr>\n",
       "      <th>3</th>\n",
       "      <td>3</td>\n",
       "      <td>Hòa Bình</td>\n",
       "      <td>18°C</td>\n",
       "      <td>https://nchmf.gov.vn/Kttv/vi-VN/1/hoa-binh-w2....</td>\n",
       "    </tr>\n",
       "    <tr>\n",
       "      <th>4</th>\n",
       "      <td>4</td>\n",
       "      <td>Lào Cai</td>\n",
       "      <td>18°C</td>\n",
       "      <td>https://nchmf.gov.vn/Kttv/vi-VN/1/lao-cai-w37....</td>\n",
       "    </tr>\n",
       "    <tr>\n",
       "      <th>...</th>\n",
       "      <td>...</td>\n",
       "      <td>...</td>\n",
       "      <td>...</td>\n",
       "      <td>...</td>\n",
       "    </tr>\n",
       "    <tr>\n",
       "      <th>58</th>\n",
       "      <td>58</td>\n",
       "      <td>Hậu Giang</td>\n",
       "      <td>27°C</td>\n",
       "      <td>https://nchmf.gov.vn/Kttv/vi-VN/1/hau-giang-w4...</td>\n",
       "    </tr>\n",
       "    <tr>\n",
       "      <th>59</th>\n",
       "      <td>59</td>\n",
       "      <td>Sóc Trăng</td>\n",
       "      <td>28°C</td>\n",
       "      <td>https://nchmf.gov.vn/Kttv/vi-VN/1/soc-trang-w2...</td>\n",
       "    </tr>\n",
       "    <tr>\n",
       "      <th>60</th>\n",
       "      <td>60</td>\n",
       "      <td>Kiên Giang</td>\n",
       "      <td>30°C</td>\n",
       "      <td>https://nchmf.gov.vn/Kttv/vi-VN/1/kien-giang-w...</td>\n",
       "    </tr>\n",
       "    <tr>\n",
       "      <th>61</th>\n",
       "      <td>61</td>\n",
       "      <td>Bạc Liêu</td>\n",
       "      <td>28°C</td>\n",
       "      <td>https://nchmf.gov.vn/Kttv/vi-VN/1/bac-lieu-w29...</td>\n",
       "    </tr>\n",
       "    <tr>\n",
       "      <th>62</th>\n",
       "      <td>62</td>\n",
       "      <td>Cà Mau</td>\n",
       "      <td>29°C</td>\n",
       "      <td>https://nchmf.gov.vn/Kttv/vi-VN/1/ca-mau-w42.html</td>\n",
       "    </tr>\n",
       "  </tbody>\n",
       "</table>\n",
       "<p>63 rows × 4 columns</p>\n",
       "</div>"
      ],
      "text/plain": [
       "    Unnamed: 0 province_name  temp  \\\n",
       "0            0      Lai Châu  18°C   \n",
       "1            1     Điện Biên  24°C   \n",
       "2            2        Sơn La  18°C   \n",
       "3            3      Hòa Bình  18°C   \n",
       "4            4       Lào Cai  18°C   \n",
       "..         ...           ...   ...   \n",
       "58          58     Hậu Giang  27°C   \n",
       "59          59     Sóc Trăng  28°C   \n",
       "60          60    Kiên Giang  30°C   \n",
       "61          61      Bạc Liêu  28°C   \n",
       "62          62        Cà Mau  29°C   \n",
       "\n",
       "                                                 link  \n",
       "0   https://nchmf.gov.vn/Kttv/vi-VN/1/lai-chau-w64...  \n",
       "1   https://nchmf.gov.vn/Kttv/vi-VN/1/dien-bien-w3...  \n",
       "2   https://nchmf.gov.vn/Kttv/vi-VN/1/son-la-w45.html  \n",
       "3   https://nchmf.gov.vn/Kttv/vi-VN/1/hoa-binh-w2....  \n",
       "4   https://nchmf.gov.vn/Kttv/vi-VN/1/lao-cai-w37....  \n",
       "..                                                ...  \n",
       "58  https://nchmf.gov.vn/Kttv/vi-VN/1/hau-giang-w4...  \n",
       "59  https://nchmf.gov.vn/Kttv/vi-VN/1/soc-trang-w2...  \n",
       "60  https://nchmf.gov.vn/Kttv/vi-VN/1/kien-giang-w...  \n",
       "61  https://nchmf.gov.vn/Kttv/vi-VN/1/bac-lieu-w29...  \n",
       "62  https://nchmf.gov.vn/Kttv/vi-VN/1/ca-mau-w42.html  \n",
       "\n",
       "[63 rows x 4 columns]"
      ]
     },
     "execution_count": 86,
     "metadata": {},
     "output_type": "execute_result"
    }
   ],
   "source": [
    "import pandas as pd\n",
    "import numpy as np\n",
    "\n",
    "data = pd.read_csv(r'D:\\project_data\\1.1_requests_weather\\data\\nhiet_do_ca_nuoc.csv')\n",
    "data"
   ]
  },
  {
   "cell_type": "code",
   "execution_count": 87,
   "metadata": {},
   "outputs": [
    {
     "name": "stdout",
     "output_type": "stream",
     "text": [
      "province have temp highest :\n"
     ]
    },
    {
     "data": {
      "text/plain": [
       "44    Bình Phước\n",
       "46      Đồng Nai\n",
       "47    Bình Dương\n",
       "Name: province_name, dtype: object"
      ]
     },
     "execution_count": 87,
     "metadata": {},
     "output_type": "execute_result"
    }
   ],
   "source": [
    "print('province have temp highest :')\n",
    "data[data['temp'] == max(data['temp'])]['province_name']"
   ]
  },
  {
   "cell_type": "code",
   "execution_count": 88,
   "metadata": {},
   "outputs": [
    {
     "data": {
      "text/html": [
       "<div>\n",
       "<style scoped>\n",
       "    .dataframe tbody tr th:only-of-type {\n",
       "        vertical-align: middle;\n",
       "    }\n",
       "\n",
       "    .dataframe tbody tr th {\n",
       "        vertical-align: top;\n",
       "    }\n",
       "\n",
       "    .dataframe thead th {\n",
       "        text-align: right;\n",
       "    }\n",
       "</style>\n",
       "<table border=\"1\" class=\"dataframe\">\n",
       "  <thead>\n",
       "    <tr style=\"text-align: right;\">\n",
       "      <th></th>\n",
       "      <th>Unnamed: 0</th>\n",
       "      <th>province_name</th>\n",
       "      <th>temp</th>\n",
       "      <th>link</th>\n",
       "    </tr>\n",
       "  </thead>\n",
       "  <tbody>\n",
       "    <tr>\n",
       "      <th>0</th>\n",
       "      <td>0</td>\n",
       "      <td>Lai Châu</td>\n",
       "      <td>18°C</td>\n",
       "      <td>https://nchmf.gov.vn/Kttv/vi-VN/1/lai-chau-w64...</td>\n",
       "    </tr>\n",
       "    <tr>\n",
       "      <th>1</th>\n",
       "      <td>1</td>\n",
       "      <td>Điện Biên</td>\n",
       "      <td>24°C</td>\n",
       "      <td>https://nchmf.gov.vn/Kttv/vi-VN/1/dien-bien-w3...</td>\n",
       "    </tr>\n",
       "    <tr>\n",
       "      <th>2</th>\n",
       "      <td>2</td>\n",
       "      <td>Sơn La</td>\n",
       "      <td>18°C</td>\n",
       "      <td>https://nchmf.gov.vn/Kttv/vi-VN/1/son-la-w45.html</td>\n",
       "    </tr>\n",
       "    <tr>\n",
       "      <th>3</th>\n",
       "      <td>3</td>\n",
       "      <td>Hòa Bình</td>\n",
       "      <td>18°C</td>\n",
       "      <td>https://nchmf.gov.vn/Kttv/vi-VN/1/hoa-binh-w2....</td>\n",
       "    </tr>\n",
       "    <tr>\n",
       "      <th>4</th>\n",
       "      <td>4</td>\n",
       "      <td>Lào Cai</td>\n",
       "      <td>18°C</td>\n",
       "      <td>https://nchmf.gov.vn/Kttv/vi-VN/1/lao-cai-w37....</td>\n",
       "    </tr>\n",
       "  </tbody>\n",
       "</table>\n",
       "</div>"
      ],
      "text/plain": [
       "   Unnamed: 0 province_name  temp  \\\n",
       "0           0      Lai Châu  18°C   \n",
       "1           1     Điện Biên  24°C   \n",
       "2           2        Sơn La  18°C   \n",
       "3           3      Hòa Bình  18°C   \n",
       "4           4       Lào Cai  18°C   \n",
       "\n",
       "                                                link  \n",
       "0  https://nchmf.gov.vn/Kttv/vi-VN/1/lai-chau-w64...  \n",
       "1  https://nchmf.gov.vn/Kttv/vi-VN/1/dien-bien-w3...  \n",
       "2  https://nchmf.gov.vn/Kttv/vi-VN/1/son-la-w45.html  \n",
       "3  https://nchmf.gov.vn/Kttv/vi-VN/1/hoa-binh-w2....  \n",
       "4  https://nchmf.gov.vn/Kttv/vi-VN/1/lao-cai-w37....  "
      ]
     },
     "execution_count": 88,
     "metadata": {},
     "output_type": "execute_result"
    }
   ],
   "source": [
    "data.head()"
   ]
  },
  {
   "cell_type": "code",
   "execution_count": 90,
   "metadata": {},
   "outputs": [
    {
     "data": {
      "text/html": [
       "<div>\n",
       "<style scoped>\n",
       "    .dataframe tbody tr th:only-of-type {\n",
       "        vertical-align: middle;\n",
       "    }\n",
       "\n",
       "    .dataframe tbody tr th {\n",
       "        vertical-align: top;\n",
       "    }\n",
       "\n",
       "    .dataframe thead th {\n",
       "        text-align: right;\n",
       "    }\n",
       "</style>\n",
       "<table border=\"1\" class=\"dataframe\">\n",
       "  <thead>\n",
       "    <tr style=\"text-align: right;\">\n",
       "      <th></th>\n",
       "      <th>Unnamed: 0</th>\n",
       "      <th>province_name</th>\n",
       "      <th>temp</th>\n",
       "      <th>link</th>\n",
       "    </tr>\n",
       "  </thead>\n",
       "  <tbody>\n",
       "    <tr>\n",
       "      <th>0</th>\n",
       "      <td>0</td>\n",
       "      <td>Lai Châu</td>\n",
       "      <td>18</td>\n",
       "      <td>https://nchmf.gov.vn/Kttv/vi-VN/1/lai-chau-w64...</td>\n",
       "    </tr>\n",
       "    <tr>\n",
       "      <th>1</th>\n",
       "      <td>1</td>\n",
       "      <td>Điện Biên</td>\n",
       "      <td>24</td>\n",
       "      <td>https://nchmf.gov.vn/Kttv/vi-VN/1/dien-bien-w3...</td>\n",
       "    </tr>\n",
       "    <tr>\n",
       "      <th>2</th>\n",
       "      <td>2</td>\n",
       "      <td>Sơn La</td>\n",
       "      <td>18</td>\n",
       "      <td>https://nchmf.gov.vn/Kttv/vi-VN/1/son-la-w45.html</td>\n",
       "    </tr>\n",
       "    <tr>\n",
       "      <th>3</th>\n",
       "      <td>3</td>\n",
       "      <td>Hòa Bình</td>\n",
       "      <td>18</td>\n",
       "      <td>https://nchmf.gov.vn/Kttv/vi-VN/1/hoa-binh-w2....</td>\n",
       "    </tr>\n",
       "    <tr>\n",
       "      <th>4</th>\n",
       "      <td>4</td>\n",
       "      <td>Lào Cai</td>\n",
       "      <td>18</td>\n",
       "      <td>https://nchmf.gov.vn/Kttv/vi-VN/1/lao-cai-w37....</td>\n",
       "    </tr>\n",
       "    <tr>\n",
       "      <th>...</th>\n",
       "      <td>...</td>\n",
       "      <td>...</td>\n",
       "      <td>...</td>\n",
       "      <td>...</td>\n",
       "    </tr>\n",
       "    <tr>\n",
       "      <th>58</th>\n",
       "      <td>58</td>\n",
       "      <td>Hậu Giang</td>\n",
       "      <td>27</td>\n",
       "      <td>https://nchmf.gov.vn/Kttv/vi-VN/1/hau-giang-w4...</td>\n",
       "    </tr>\n",
       "    <tr>\n",
       "      <th>59</th>\n",
       "      <td>59</td>\n",
       "      <td>Sóc Trăng</td>\n",
       "      <td>28</td>\n",
       "      <td>https://nchmf.gov.vn/Kttv/vi-VN/1/soc-trang-w2...</td>\n",
       "    </tr>\n",
       "    <tr>\n",
       "      <th>60</th>\n",
       "      <td>60</td>\n",
       "      <td>Kiên Giang</td>\n",
       "      <td>30</td>\n",
       "      <td>https://nchmf.gov.vn/Kttv/vi-VN/1/kien-giang-w...</td>\n",
       "    </tr>\n",
       "    <tr>\n",
       "      <th>61</th>\n",
       "      <td>61</td>\n",
       "      <td>Bạc Liêu</td>\n",
       "      <td>28</td>\n",
       "      <td>https://nchmf.gov.vn/Kttv/vi-VN/1/bac-lieu-w29...</td>\n",
       "    </tr>\n",
       "    <tr>\n",
       "      <th>62</th>\n",
       "      <td>62</td>\n",
       "      <td>Cà Mau</td>\n",
       "      <td>29</td>\n",
       "      <td>https://nchmf.gov.vn/Kttv/vi-VN/1/ca-mau-w42.html</td>\n",
       "    </tr>\n",
       "  </tbody>\n",
       "</table>\n",
       "<p>63 rows × 4 columns</p>\n",
       "</div>"
      ],
      "text/plain": [
       "    Unnamed: 0 province_name  temp  \\\n",
       "0            0      Lai Châu    18   \n",
       "1            1     Điện Biên    24   \n",
       "2            2        Sơn La    18   \n",
       "3            3      Hòa Bình    18   \n",
       "4            4       Lào Cai    18   \n",
       "..         ...           ...   ...   \n",
       "58          58     Hậu Giang    27   \n",
       "59          59     Sóc Trăng    28   \n",
       "60          60    Kiên Giang    30   \n",
       "61          61      Bạc Liêu    28   \n",
       "62          62        Cà Mau    29   \n",
       "\n",
       "                                                 link  \n",
       "0   https://nchmf.gov.vn/Kttv/vi-VN/1/lai-chau-w64...  \n",
       "1   https://nchmf.gov.vn/Kttv/vi-VN/1/dien-bien-w3...  \n",
       "2   https://nchmf.gov.vn/Kttv/vi-VN/1/son-la-w45.html  \n",
       "3   https://nchmf.gov.vn/Kttv/vi-VN/1/hoa-binh-w2....  \n",
       "4   https://nchmf.gov.vn/Kttv/vi-VN/1/lao-cai-w37....  \n",
       "..                                                ...  \n",
       "58  https://nchmf.gov.vn/Kttv/vi-VN/1/hau-giang-w4...  \n",
       "59  https://nchmf.gov.vn/Kttv/vi-VN/1/soc-trang-w2...  \n",
       "60  https://nchmf.gov.vn/Kttv/vi-VN/1/kien-giang-w...  \n",
       "61  https://nchmf.gov.vn/Kttv/vi-VN/1/bac-lieu-w29...  \n",
       "62  https://nchmf.gov.vn/Kttv/vi-VN/1/ca-mau-w42.html  \n",
       "\n",
       "[63 rows x 4 columns]"
      ]
     },
     "execution_count": 90,
     "metadata": {},
     "output_type": "execute_result"
    }
   ],
   "source": [
    "temp_number=[]\n",
    "for i in data['temp']:\n",
    "    temp_number.append(int(str(i).replace(\"°C\",'')))\n",
    "data['temp'] = temp_number\n",
    "data"
   ]
  },
  {
   "cell_type": "code",
   "execution_count": null,
   "metadata": {},
   "outputs": [
    {
     "name": "stdout",
     "output_type": "stream",
     "text": [
      "<class 'pandas.core.frame.DataFrame'>\n",
      "RangeIndex: 63 entries, 0 to 62\n",
      "Data columns (total 4 columns):\n",
      " #   Column         Non-Null Count  Dtype \n",
      "---  ------         --------------  ----- \n",
      " 0   Unnamed: 0     63 non-null     int64 \n",
      " 1   province_name  63 non-null     object\n",
      " 2   temp           63 non-null     int64 \n",
      " 3   link           63 non-null     object\n",
      "dtypes: int64(2), object(2)\n",
      "memory usage: 2.1+ KB\n"
     ]
    }
   ],
   "source": [
    "data.info()"
   ]
  },
  {
   "cell_type": "code",
   "execution_count": 94,
   "metadata": {},
   "outputs": [
    {
     "name": "stdout",
     "output_type": "stream",
     "text": [
      "nhiet do trung binh:\n"
     ]
    },
    {
     "data": {
      "text/plain": [
       "23.22222222222222"
      ]
     },
     "execution_count": 94,
     "metadata": {},
     "output_type": "execute_result"
    }
   ],
   "source": [
    "print('nhiet do trung binh:')\n",
    "data['temp'].mean()"
   ]
  },
  {
   "cell_type": "code",
   "execution_count": 95,
   "metadata": {},
   "outputs": [
    {
     "name": "stdout",
     "output_type": "stream",
     "text": [
      "do lech chuan:\n"
     ]
    },
    {
     "data": {
      "text/plain": [
       "4.736421830482628"
      ]
     },
     "execution_count": 95,
     "metadata": {},
     "output_type": "execute_result"
    }
   ],
   "source": [
    "print('do lech chuan:')\n",
    "data['temp'].std()"
   ]
  },
  {
   "cell_type": "code",
   "execution_count": null,
   "metadata": {},
   "outputs": [],
   "source": [
    "data"
   ]
  }
 ],
 "metadata": {
  "kernelspec": {
   "display_name": "base",
   "language": "python",
   "name": "python3"
  },
  "language_info": {
   "codemirror_mode": {
    "name": "ipython",
    "version": 3
   },
   "file_extension": ".py",
   "mimetype": "text/x-python",
   "name": "python",
   "nbconvert_exporter": "python",
   "pygments_lexer": "ipython3",
   "version": "3.11.4"
  }
 },
 "nbformat": 4,
 "nbformat_minor": 2
}
